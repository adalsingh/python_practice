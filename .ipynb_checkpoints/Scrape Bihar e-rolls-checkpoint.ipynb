{
 "metadata": {
  "name": ""
 },
 "nbformat": 3,
 "nbformat_minor": 0,
 "worksheets": [
  {
   "cells": [
    {
     "cell_type": "markdown",
     "metadata": {},
     "source": [
      "This code extracts electronic voter roll (\"e-roll\") data from the website of the Chief Electoral Officer of Bihar. The code is functional as of September 10, 2014."
     ]
    },
    {
     "cell_type": "markdown",
     "metadata": {},
     "source": [
      "**Set parameters**"
     ]
    },
    {
     "cell_type": "code",
     "collapsed": false,
     "input": [
      "# Sample\n",
      "district = 28\n",
      "startAC = 191\n",
      "endAC = 191\n",
      "\n",
      "# Send CSVs to this location\n",
      "my_dir = 'C:/Users/Jeff/Desktop/Patna e-rolls'"
     ],
     "language": "python",
     "metadata": {},
     "outputs": [],
     "prompt_number": 5
    },
    {
     "cell_type": "markdown",
     "metadata": {},
     "source": [
      "**Import packages**"
     ]
    },
    {
     "cell_type": "code",
     "collapsed": false,
     "input": [
      "import pandas as pd\n",
      "import requests\n",
      "from pattern import web\n",
      "import re\n",
      "import json\n",
      "import string\n",
      "import time\n",
      "import os\n",
      "from selenium import webdriver\n",
      "from selenium.webdriver.common.by import By\n",
      "from selenium.webdriver.support.ui import WebDriverWait\n",
      "from selenium.webdriver.support import expected_conditions as EC"
     ],
     "language": "python",
     "metadata": {},
     "outputs": [],
     "prompt_number": 6
    },
    {
     "cell_type": "markdown",
     "metadata": {},
     "source": [
      "**Download e-rolls**"
     ]
    },
    {
     "cell_type": "code",
     "collapsed": false,
     "input": [
      "for AC in range(startAC,endAC+1):\n",
      "\n",
      "    # Create file name\n",
      "    full_dir = my_dir+'/AC'+str(AC)+\".csv\"\n",
      "    \n",
      "    # Use Firefox (Doesn't work with Chrome)\n",
      "    driver = webdriver.Firefox()\n",
      "    \n",
      "    # Go to CEO e-roll website\n",
      "    driver.get('http://210.212.18.115/electorsearch/default.aspx?dist_id='+str(district))\n",
      "     \n",
      "    # Select AC\n",
      "    choose_AC = driver.find_element_by_xpath(\"//select[@id='ddcons']/option[@value='\"+str(AC)+\"']\")\n",
      "    choose_AC.click()\n",
      "    \n",
      "    # Create DataFrame object with columns\n",
      "    dictionary = {\"name_let\":[], \"relname_let\":[],\"ac\":[], \"ps\":[], \"section\":[], \"house\":[], \"sn\":[], \"name\":[], \"sex\":[], \"age\":[], \"relative\":[], \"rel_name\":[], \"voter_id\":[], \"status\":[]}\n",
      "    df = pd.DataFrame(dictionary)\n",
      "    \n",
      "    # Loop through names: Enter first letter for voter name and relative name (required) to get full list that corresponds to that combination\n",
      "    all_Letters = string.lowercase\n",
      "    for let1 in all_Letters:\n",
      "        for let2 in all_Letters:\n",
      "             \n",
      "            # Enter first letter of voter's name    \n",
      "            text_First = driver.find_element_by_id('txtfName')\n",
      "            text_First.clear()\n",
      "            text_First.send_keys(let1)\n",
      "            \n",
      "            # Enter first letter of relative's name\n",
      "            text_RelFirst = driver.find_element_by_id('txtRelFname')\n",
      "            text_RelFirst.clear()\n",
      "            text_RelFirst.send_keys(let2)\n",
      "        \n",
      "            # Submit the form, wait for a second to let the pop-up box show\n",
      "            submit_button = driver.find_element_by_id('cmdShow')\n",
      "            submit_button.click()\n",
      "            time.sleep(0.5)\n",
      "                    \n",
      "            # Wait for content to load\n",
      "            wait = WebDriverWait(driver, 100)\n",
      "            wait.until(EC.invisibility_of_element_located((By.ID,'UpdateProgress1')))\n",
      "        \n",
      "            # If no entries, then click \"Ok\" and go to next letter combination\n",
      "            try:\n",
      "                driver.find_element_by_id('Aspmsgbox1_BtnOk').click()\n",
      "        \n",
      "            # If entries, extract the data from the table\n",
      "            except:\n",
      "                # Get Web DOM\n",
      "                html_source = driver.page_source\n",
      "                dom = web.Element(html_source)\n",
      "                \n",
      "                # Get HTML of table \n",
      "                table = dom.by_tag('tbody')[7]            \n",
      "        \n",
      "                # Create Variables\n",
      "                name_let = []\n",
      "                relname_let = []\n",
      "                ac = []\n",
      "                ps = []\n",
      "                section = []\n",
      "                house = []\n",
      "                sn = []\n",
      "                name = []\n",
      "                sex = []\n",
      "                age = []\n",
      "                relative = []\n",
      "                rel_name = []\n",
      "                voter_id = []\n",
      "                status = []\n",
      "                #photo = []\n",
      "    \n",
      "                # Loop through each row in HTML table to extract data \n",
      "                for row in table.by_tag('tr')[1:]:\n",
      "                    name_let.append(let1)\n",
      "                    relname_let.append(let2)\n",
      "                    ac.append(row.by_tag('td')[0].content)\n",
      "                    ps.append(row.by_tag('td')[1].content)\n",
      "                    section.append(row.by_tag('td')[2].content)\n",
      "                    house.append(row.by_tag('td')[3].by_tag('a')[0].content)\n",
      "                    sn.append(row.by_tag('td')[4].content)\n",
      "                    name.append(row.by_tag('td')[5].by_tag('a')[0].content)\n",
      "                    sex_age = row.by_tag('td')[6].content\n",
      "                    sex.append(re.split(\"\\(\", sex_age)[0])\n",
      "                    age.append(re.sub(\"\\)\",\"\",re.split(\"\\(\", sex_age)[1]))\n",
      "                    relative.append(row.by_tag('td')[7].content)\n",
      "                    rel_name.append(row.by_tag('td')[8].content)\n",
      "                    voter_id.append(row.by_tag('td')[9].content)\n",
      "                    status.append(row.by_tag('td')[10].content)\n",
      "                    #photo.append(row.by_tag('td')[11].content)\n",
      "    \n",
      "                # Create DataFrame of table\n",
      "                dictionary = {\"name_let\":name_let, \"relname_let\":relname_let,\"ac\":ac, \"ps\":ps, \"section\":section, \"house\":house, \"sn\":sn, \"name\":name, \"sex\":sex, \"age\":age, \"relative\":relative, \"rel_name\":rel_name, \"voter_id\":voter_id, \"status\":status}\n",
      "                workingdf = pd.DataFrame(dictionary)\n",
      "    \n",
      "                # Append to existing DataFrame\n",
      "                df = df.append(workingdf)\n",
      "                \n",
      "    # Save CSV file of AC   \n",
      "    df.to_csv(full_dir, encoding='utf-8', header=True)\n",
      "    \n",
      "    # Quit Firefox driver when done with AC\n",
      "    driver.quit()\n",
      "\n"
     ],
     "language": "python",
     "metadata": {},
     "outputs": [],
     "prompt_number": 7
    },
    {
     "cell_type": "code",
     "collapsed": false,
     "input": [],
     "language": "python",
     "metadata": {},
     "outputs": []
    }
   ],
   "metadata": {}
  }
 ]
}